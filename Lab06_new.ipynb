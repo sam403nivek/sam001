{
 "cells": [
  {
   "cell_type": "markdown",
   "metadata": {},
   "source": [
    "# Prepare data"
   ]
  },
  {
   "cell_type": "code",
   "execution_count": null,
   "metadata": {},
   "outputs": [],
   "source": [
    "from PIL import Image\n",
    "import matplotlib.pyplot as plt\n",
    "import numpy as np\n",
    "import glob\n",
    "import os\n",
    "import pandas as pd\n",
    "from multiprocessing import Pool\n",
    "from sys import getsizeof"
   ]
  },
  {
   "cell_type": "markdown",
   "metadata": {},
   "source": [
    "## Load image"
   ]
  },
  {
   "cell_type": "markdown",
   "metadata": {},
   "source": [
    "**Long time part here!!!**"
   ]
  },
  {
   "cell_type": "code",
   "execution_count": null,
   "metadata": {
    "scrolled": true
   },
   "outputs": [],
   "source": [
    "#=====Load training data=========\n",
    "\n",
    "train_data = []\n",
    "path = \"train/*\"\n",
    "\n",
    "#====Get the file name which under the folder===\n",
    "files = glob.glob(path)\n",
    "files.sort()\n",
    "\n",
    "for File in files:\n",
    "    im = Image.open(File)\n",
    "    \n",
    "######Resize the images to a common size######\n",
    "    im = im.resize((120,120),Image.BILINEAR)\n",
    "    im = np.asarray(im)\n",
    "    \n",
    "#=======Normalize the value of images========\n",
    "    im = im/255.\n",
    "    \n",
    "#=== Transpose the images to channel first, it will be fast at training ===\n",
    "    train_data.append(np.transpose(im, (2, 0, 1)))\n",
    "    \n",
    "train_data = np.asarray(train_data)\n",
    "print(\"Training data size:\",train_data.shape)"
   ]
  },
  {
   "cell_type": "code",
   "execution_count": null,
   "metadata": {},
   "outputs": [],
   "source": [
    "#=====Load validation data=========\n",
    "\n",
    "valid_data = []\n",
    "path = \"valid/*\"\n",
    "\n",
    "#====Get the file name which under the folder===\n",
    "files = glob.glob(path)\n",
    "files.sort()\n",
    "\n",
    "for File in files:\n",
    "    im = Image.open(File)\n",
    "    \n",
    "######Resize the images to a common size######\n",
    "    im = im.resize((120,120),Image.BILINEAR)\n",
    "    im = np.asarray(im)\n",
    "    \n",
    "#=======Normalize the value of images========\n",
    "    im = im/255.\n",
    "    \n",
    "#=== Transpose the images to channel first, it will be fast at validation ===\n",
    "    valid_data.append(np.transpose(im, (2, 0, 1)))\n",
    "valid_data = np.asarray(valid_data)\n",
    "print(\"Valid data size:\",valid_data.shape)"
   ]
  },
  {
   "cell_type": "code",
   "execution_count": null,
   "metadata": {},
   "outputs": [],
   "source": [
    "#=====Load testing data=========\n",
    "\n",
    "test_data = []\n",
    "path = \"test/*\"\n",
    "\n",
    "#====Get the file name which under the folder===\n",
    "files = glob.glob(path)\n",
    "files.sort()\n",
    "\n",
    "for File in files:\n",
    "    im = Image.open(File)\n",
    "    \n",
    "######Resize the images to a common size######\n",
    "    im = im.resize((120,120),Image.BILINEAR)\n",
    "    im = np.asarray(im)\n",
    "    \n",
    "#=======Normalize the value of images========\n",
    "    im = im/255.\n",
    "    \n",
    "#=== Transpose the images to channel first, it will be fast at training ===\n",
    "    test_data.append(np.transpose(im, (2, 0, 1)))\n",
    "    \n",
    "test_data = np.asarray(test_data)\n",
    "print(\"Testing data size:\",test_data.shape)"
   ]
  },
  {
   "cell_type": "code",
   "execution_count": null,
   "metadata": {},
   "outputs": [],
   "source": [
    "#====== Print the data size(byte)======\n",
    "print(\"train data:\",getsizeof(train_data))\n",
    "print(\"test  data:\",getsizeof(test_data))\n",
    "print(\"valid data:\",getsizeof(valid_data))"
   ]
  },
  {
   "cell_type": "markdown",
   "metadata": {},
   "source": [
    "## Make training label"
   ]
  },
  {
   "cell_type": "code",
   "execution_count": null,
   "metadata": {},
   "outputs": [],
   "source": [
    "#=====Make training Labels=============\n",
    "\n",
    "#===read the csv file===\n",
    "df = pd.read_csv('train_label.csv')\n",
    "train_labels = df.values\n",
    "print(train_labels.shape)\n",
    "\n",
    "#===make one hot format labels===\n",
    "for i in range(19800):\n",
    "    if train_labels[i][1]:\n",
    "        train_labels[i][0] = 0\n",
    "    else:\n",
    "        train_labels[i][0] = 1"
   ]
  },
  {
   "cell_type": "code",
   "execution_count": null,
   "metadata": {},
   "outputs": [],
   "source": [
    "#=====Make training Label=============\n",
    "\n",
    "#===read the csv file===\n",
    "df = pd.read_csv('valid_label.csv')\n",
    "valid_labels = df.values\n",
    "print(valid_labels.shape)\n",
    "\n",
    "#===make one hot format labels===\n",
    "for i in range(2200):\n",
    "    if valid_labels[i][1]:\n",
    "        valid_labels[i][0] = 0\n",
    "    else:\n",
    "        valid_labels[i][0] = 1"
   ]
  },
  {
   "cell_type": "markdown",
   "metadata": {},
   "source": [
    "# Build Model"
   ]
  },
  {
   "cell_type": "markdown",
   "metadata": {},
   "source": [
    "##  Create network"
   ]
  },
  {
   "cell_type": "code",
   "execution_count": null,
   "metadata": {},
   "outputs": [],
   "source": [
    "############## import anything you need from keras ##########\n",
    "\n",
    "\n"
   ]
  },
  {
   "cell_type": "code",
   "execution_count": null,
   "metadata": {},
   "outputs": [],
   "source": [
    "############## Build the network here ##########\n",
    "\n",
    "\n"
   ]
  },
  {
   "cell_type": "markdown",
   "metadata": {},
   "source": [
    "## Training"
   ]
  },
  {
   "cell_type": "markdown",
   "metadata": {},
   "source": [
    "Notice!!!"
   ]
  },
  {
   "cell_type": "markdown",
   "metadata": {},
   "source": [
    "You can set the lower size images in loading stage, if you feel the training speed too slow."
   ]
  },
  {
   "cell_type": "code",
   "execution_count": null,
   "metadata": {},
   "outputs": [],
   "source": [
    "############## Start Training ############\n",
    "# You need to use validation_data=(valid_data,valid_labels) in model.fit !!!!!! #\n"
   ]
  },
  {
   "cell_type": "code",
   "execution_count": null,
   "metadata": {},
   "outputs": [],
   "source": [
    "################### Show the training and validation result ###################\n",
    "### you can use \"matplotlib.pyplot\" to show the result and paste into report###\n"
   ]
  },
  {
   "cell_type": "markdown",
   "metadata": {},
   "source": [
    "# Print out your result to csv file"
   ]
  },
  {
   "cell_type": "code",
   "execution_count": null,
   "metadata": {},
   "outputs": [],
   "source": [
    "############# Here is the code who to print the \"model\" to csv ##############\n",
    "############### Notice!!! Your model name should be \"model\" ################\n",
    "pred = np.argmax(model.predict(test_data), axis=1).reshape(3000,1)\n",
    "df = pd.DataFrame(pred, columns = [\"labels\"])\n",
    "# print(df)\n",
    "df.to_csv('ID_result.csv',index_label = \"index\")"
   ]
  }
 ],
 "metadata": {
  "kernelspec": {
   "display_name": "Python 3",
   "language": "python",
   "name": "python3"
  },
  "language_info": {
   "codemirror_mode": {
    "name": "ipython",
    "version": 3
   },
   "file_extension": ".py",
   "mimetype": "text/x-python",
   "name": "python",
   "nbconvert_exporter": "python",
   "pygments_lexer": "ipython3",
   "version": "3.6.4"
  }
 },
 "nbformat": 4,
 "nbformat_minor": 2
}
